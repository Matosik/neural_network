{
 "cells": [
  {
   "cell_type": "code",
   "execution_count": 9,
   "metadata": {},
   "outputs": [],
   "source": [
    "import splitfolders\n",
    "import torch\n",
    "import torch.nn as nn\n",
    "import torch.optim as optim\n",
    "import torchvision\n",
    "import numpy as np\n",
    "import ann\n",
    "\n",
    "from typing import Any, Tuple\n",
    "import cv2\n",
    "import matplotlib.pyplot as plt\n",
    "import pandas as pd\n",
    "from torch.utils.data import DataLoader, Dataset\n",
    "import os"
   ]
  },
  {
   "attachments": {},
   "cell_type": "markdown",
   "metadata": {},
   "source": [
    "## Разделение данных"
   ]
  },
  {
   "cell_type": "code",
   "execution_count": 4,
   "metadata": {},
   "outputs": [
    {
     "name": "stderr",
     "output_type": "stream",
     "text": [
      "Copying files: 2270 files [00:04, 556.20 files/s]\n"
     ]
    }
   ],
   "source": [
    "splitfolders.ratio('dataset', 'data_set_for_lerning',ratio=(0.8, 0.1, 0.1), seed=13, group_prefix=None)"
   ]
  },
  {
   "attachments": {},
   "cell_type": "markdown",
   "metadata": {},
   "source": [
    "##  Модель сверточной нейронной сети"
   ]
  },
  {
   "cell_type": "code",
   "execution_count": 7,
   "metadata": {},
   "outputs": [],
   "source": [
    "class CNN(nn.Module):\n",
    "    def __init__(self) -> None:\n",
    "        super(CNN, self).__init__()\n",
    "\n",
    "        self.conv_1 = nn.Conv2d(3, 16, kernel_size=3, padding=0, stride=2)\n",
    "        self.conv_2 = nn.Conv2d(16, 32, kernel_size=3, padding=0, stride=2)\n",
    "        self.conv_3 = nn.Conv2d(32, 64, kernel_size=3, padding=0, stride=2)\n",
    "\n",
    "        self.relu = nn.ReLU()\n",
    "        self.dropout = nn.Dropout(0.1)\n",
    "        self.max_pool = nn.MaxPool2d(2)\n",
    "\n",
    "        self.fc_1 = nn.Linear(576, 10)\n",
    "        self.fc_2 = nn.Linear(10, 1)\n",
    "\n",
    "    def forward(self, x: torch.tensor) -> torch.tensor:\n",
    "        output = self.relu(self.conv_1(x))\n",
    "        output = self.max_pool(output)\n",
    "        output = self.relu(self.conv_2(output))\n",
    "        output = self.max_pool(output)\n",
    "        output = self.relu(self.conv_3(output))\n",
    "        output = self.max_pool(output)\n",
    "\n",
    "        \n",
    "        output = torch.nn.Flatten()(output)\n",
    "        output = self.relu(self.fc_1(output))\n",
    "        output = torch.nn.Sigmoid()(self.fc_2(output))\n",
    "        return output"
   ]
  },
  {
   "attachments": {},
   "cell_type": "markdown",
   "metadata": {},
   "source": [
    "## Предобработка данных"
   ]
  },
  {
   "cell_type": "code",
   "execution_count": null,
   "metadata": {},
   "outputs": [],
   "source": [
    "class CustomImageDataset(Dataset):\n",
    "  def __init__(self, path_to_annotation_file: str, transform: Any = None, target_transform: Any = None) -> None:\n",
    "      self.path_to_annotation_file = path_to_annotation_file\n",
    "      self.dataset_info = pd.read_csv(path_to_annotation_file, delimiter=';')\n",
    "      self.transform = transform\n",
    "      self.target_transform = target_transform\n",
    "\n",
    "  def __len__(self) -> int:\n",
    "      return len(self.dataset_info)\n",
    "\n",
    "  def __getitem__(self, index: int) -> Tuple[torch.tensor, int]:\n",
    "      path_to_image = self.dataset_info.iloc[index, 0]\n",
    "      image = cv2.cvtColor(cv2.imread(path_to_image), cv2.COLOR_BGR2RGB)\n",
    "      label = self.dataset_info.iloc[index, 1]\n",
    "\n",
    "      if self.transform:\n",
    "          image = self.transform(image)\n",
    "      if self.target_transform:\n",
    "          label = self.target_Transform(label)\n",
    "\n",
    "      return image, label"
   ]
  }
 ],
 "metadata": {
  "kernelspec": {
   "display_name": "lab",
   "language": "python",
   "name": "python3"
  },
  "language_info": {
   "codemirror_mode": {
    "name": "ipython",
    "version": 3
   },
   "file_extension": ".py",
   "mimetype": "text/x-python",
   "name": "python",
   "nbconvert_exporter": "python",
   "pygments_lexer": "ipython3",
   "version": "3.9.13"
  },
  "orig_nbformat": 4,
  "vscode": {
   "interpreter": {
    "hash": "893ac89933e16a531120c0a17905e867134bd9aaffdadefbd9118b34dd5ef80d"
   }
  }
 },
 "nbformat": 4,
 "nbformat_minor": 2
}
